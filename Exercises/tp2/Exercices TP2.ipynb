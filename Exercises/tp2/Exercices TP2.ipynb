{
 "cells": [
  {
   "cell_type": "markdown",
   "metadata": {},
   "source": [
    "Dans ce fichier, nous allons présenter quelques exercices en vue de préparer le TP2."
   ]
  },
  {
   "cell_type": "code",
   "execution_count": null,
   "metadata": {},
   "outputs": [],
   "source": [
    "from jupyter_dash import JupyterDash\n",
    "import dash\n",
    "import dash_html_components as html\n",
    "import pandas as pd"
   ]
  },
  {
   "cell_type": "markdown",
   "metadata": {},
   "source": [
    "# Exercice 1 : Preprocessing de données\n",
    "\n",
    "On vous donne dans un fichier \"data.csv\" avec des données de ventes d'une entreprise. On y voit le nom de chaque vendeur, l'année et le montant de ventes que le vendeur a fait l'année en question. \n",
    "\n",
    "### 1.1\n",
    "Pour commencer, importez ce fichier dans un dataframe pandas et imprimez le pour voir le contenu."
   ]
  },
  {
   "cell_type": "code",
   "execution_count": null,
   "metadata": {},
   "outputs": [],
   "source": [
    "# TODO : Importer le csv avec pandas"
   ]
  },
  {
   "cell_type": "code",
   "execution_count": null,
   "metadata": {},
   "outputs": [],
   "source": [
    "# TODO : Imprimer le contenu du csv"
   ]
  },
  {
   "cell_type": "markdown",
   "metadata": {},
   "source": [
    "### 1.1 \n",
    "\n",
    "Puis, vous réalisez que la colonne \"Nom\" devrait plutôt être \"Prénom\". Faites la modification et imprimez le dataframe de nouveau."
   ]
  },
  {
   "cell_type": "code",
   "execution_count": null,
   "metadata": {},
   "outputs": [],
   "source": [
    "# TODO : Renommer la colonne"
   ]
  },
  {
   "cell_type": "code",
   "execution_count": null,
   "metadata": {},
   "outputs": [],
   "source": [
    "# TODO : Imprimer le contenu du df"
   ]
  },
  {
   "cell_type": "markdown",
   "metadata": {},
   "source": [
    "### 1.2\n",
    "Par la suite, un employé vous indique que le nom de \"Charlie\" devrait en fait lire \"Charley\". Modifiez le nom dans le dataframe et imprimez le résultat."
   ]
  },
  {
   "cell_type": "code",
   "execution_count": null,
   "metadata": {},
   "outputs": [],
   "source": [
    "# TODO : Faire le remplacement de nom"
   ]
  },
  {
   "cell_type": "code",
   "execution_count": null,
   "metadata": {},
   "outputs": [],
   "source": [
    "# TODO : Imprimer le contenu du df"
   ]
  },
  {
   "cell_type": "markdown",
   "metadata": {},
   "source": [
    "### 1.3 \n",
    "\n",
    "Vous aimeriez voir un résumé de la somme des ventes pour chaque année. Groupez les données par année pour voir le total."
   ]
  },
  {
   "cell_type": "code",
   "execution_count": null,
   "metadata": {},
   "outputs": [],
   "source": [
    "# TODO : Grouper et sommer les ventes par an"
   ]
  },
  {
   "cell_type": "code",
   "execution_count": null,
   "metadata": {},
   "outputs": [],
   "source": [
    "# TODO: Imprimer le résultat"
   ]
  },
  {
   "cell_type": "markdown",
   "metadata": {},
   "source": [
    "### 1.4 \n",
    "\n",
    "Triez les données par année en ordre croissant, puis par vendeur en ordre décroissant. "
   ]
  },
  {
   "cell_type": "code",
   "execution_count": null,
   "metadata": {},
   "outputs": [],
   "source": [
    "# TODO : Trier"
   ]
  },
  {
   "cell_type": "markdown",
   "metadata": {},
   "source": [
    "### 1.5\n",
    "\n",
    "Trier les données par année et par montant de ventes en ordre croissant, en affichant que les rangées pour les deux meilleurs vendeurs à chaque année."
   ]
  },
  {
   "cell_type": "code",
   "execution_count": null,
   "metadata": {},
   "outputs": [],
   "source": [
    "# TODO : Trier et afficher les rangées demandées"
   ]
  },
  {
   "cell_type": "markdown",
   "metadata": {},
   "source": [
    "# Exercice 2 : Création de template avec Potly\n",
    "\n",
    "Plotly nous offre des templates pré-conçus pour thématiser nos graphiques. Il est aussi possible de créer nos propres templates et de les combiner avec ceux déjà existants. \n",
    "\n",
    "### 2.1\n",
    "\n",
    "Créez un template où la police est de couleur '#ff0000' et de la famille 'Verdana'. Précisez aussi que les données 'Scatter' auront un markeur de type diamant de couleur '#e1ad01' et de taille 20."
   ]
  },
  {
   "cell_type": "code",
   "execution_count": null,
   "metadata": {},
   "outputs": [],
   "source": [
    "import plotly.graph_objects as go\n",
    "import plotly.io as pio"
   ]
  },
  {
   "cell_type": "code",
   "execution_count": null,
   "metadata": {},
   "outputs": [],
   "source": [
    "# TODO : Créer le template demandé\n",
    "pio.templates['new_theme'] = go.layout.Template()"
   ]
  },
  {
   "cell_type": "code",
   "execution_count": null,
   "metadata": {},
   "outputs": [],
   "source": [
    "# Utilisez cette case pour tester votre template\n",
    "fig=go.Figure(data=go.Scatter(x=[1,2], y=[2,1]), layout=go.Layout(template=pio.templates['new_theme']))\n",
    "fig"
   ]
  },
  {
   "cell_type": "markdown",
   "metadata": {},
   "source": [
    "### 2.2\n",
    "\n",
    "Modifiez le code ci-bas pour qu'il utilise le template \"plotly_dark\" comme base avec votre template créé en 2.1 appliqué par dessus."
   ]
  },
  {
   "cell_type": "code",
   "execution_count": null,
   "metadata": {},
   "outputs": [],
   "source": [
    "# TODO : Modifier ce code\n",
    "fig=go.Figure(data=go.Scatter(x=[1,2], y=[2,1]), layout=go.Layout())\n",
    "fig"
   ]
  },
  {
   "cell_type": "markdown",
   "metadata": {},
   "source": [
    "# Exercice 3 : Création d'un hover template pour les figures"
   ]
  },
  {
   "cell_type": "markdown",
   "metadata": {},
   "source": [
    "Nous voulons créer un template simple pour définir l'affichage dans les tooltips qui apparaissent lorsqu'on met le curseur sur un point dans le graphique.\n",
    "\n",
    "Créez un template simple qui indique 'x value : ' suivi de la valeur en x, puis suivi d'une virgule et du texte 'y value : ' suivi de la valeur en y. N'oubliez pas de définir la balise 'extra' vide pour ne pas qu'elle affiche du contenu. "
   ]
  },
  {
   "cell_type": "code",
   "execution_count": null,
   "metadata": {},
   "outputs": [],
   "source": [
    "# TODO: Retourner le template\n",
    "def get_template():\n",
    "    return ''"
   ]
  },
  {
   "cell_type": "code",
   "execution_count": null,
   "metadata": {},
   "outputs": [],
   "source": [
    "# Utilsez cette case pour tester\n",
    "fig=go.Figure(data=go.Scatter(x=[1,2], y=[2,1], hovertemplate=get_template()))\n",
    "fig"
   ]
  },
  {
   "cell_type": "markdown",
   "metadata": {},
   "source": [
    "# Exercice 4 : Boutons radio avec Dash\n",
    "\n",
    "Dash offre plusieurs types de composantes HTML. Nous allons utiliser les boutons radios ici. \n",
    "\n",
    "Commencez par ajouter au 'Div' principal des boutons radio avec les options : 'Pomme', 'Banane' et 'Poire'. N'oubliez pas de donner un ID au groupe d'items radio. Par défaut, l'option 'Poire' devra être sélectionnée. \n",
    "\n",
    "Puis, rajouter comme deuxième enfant du 'Div' principal un élément HTML 'Span'. Ne lui initialisez pas de contenu, mais assurez-vous de lui donner un ID.\n",
    "\n",
    "Par la suite, créer un callback qui déterminera le contenu de ce 'Span' dépendemment de l'option radio sélectionnée. On veut que le 'Span' affiche le texte : 'La sélection est : '. Cela devra être suivi de la sélection courante. Lorsqu'il y a un changement de la valeur du bouton radio, on veut que le texte s'actualise pour montrer la sélection mise à jour. "
   ]
  },
  {
   "cell_type": "code",
   "execution_count": null,
   "metadata": {},
   "outputs": [],
   "source": [
    "from dash.dependencies import Input, Output\n",
    "import dash_html_components as html\n",
    "import dash_core_components as dcc"
   ]
  },
  {
   "cell_type": "code",
   "execution_count": null,
   "metadata": {},
   "outputs": [],
   "source": [
    "external_stylesheets=['https://codepen.io/chriddyp/pen/bWLwgP.css']"
   ]
  },
  {
   "cell_type": "code",
   "execution_count": null,
   "metadata": {},
   "outputs": [],
   "source": [
    "app = JupyterDash(__name__, external_stylesheets=external_stylesheets)"
   ]
  },
  {
   "cell_type": "code",
   "execution_count": null,
   "metadata": {},
   "outputs": [],
   "source": [
    "# TODO: Définir les éléments HTML demandés\n",
    "app.layout = html.Div(children=[\n",
    "\n",
    "])"
   ]
  },
  {
   "cell_type": "code",
   "execution_count": null,
   "metadata": {},
   "outputs": [],
   "source": [
    "#TODO: Définir le callback demandé"
   ]
  },
  {
   "cell_type": "code",
   "execution_count": null,
   "metadata": {},
   "outputs": [],
   "source": [
    "# Rouler cette cellule pour tester le résultat. Ouvrez une fenêtre à l'adresse donnée.\n",
    "app.run_server(port=8013)"
   ]
  }
 ],
 "metadata": {
  "kernelspec": {
   "display_name": "tp1",
   "language": "python",
   "name": "tp1"
  },
  "language_info": {
   "codemirror_mode": {
    "name": "ipython",
    "version": 3
   },
   "file_extension": ".py",
   "mimetype": "text/x-python",
   "name": "python",
   "nbconvert_exporter": "python",
   "pygments_lexer": "ipython3",
   "version": "3.8.3"
  }
 },
 "nbformat": 4,
 "nbformat_minor": 4
}
