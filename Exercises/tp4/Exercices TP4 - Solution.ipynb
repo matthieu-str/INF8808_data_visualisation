{
 "cells": [
  {
   "cell_type": "markdown",
   "metadata": {},
   "source": [
    "Dans ce fichier, nous allons présenter quelques exercices en vue de préparer le TP4."
   ]
  },
  {
   "cell_type": "code",
   "execution_count": null,
   "metadata": {},
   "outputs": [],
   "source": [
    "from jupyter_dash import JupyterDash\n",
    "import pandas as pd"
   ]
  },
  {
   "cell_type": "code",
   "execution_count": null,
   "metadata": {},
   "outputs": [],
   "source": [
    "import plotly.graph_objects as go\n",
    "import plotly.express as px"
   ]
  },
  {
   "cell_type": "markdown",
   "metadata": {},
   "source": [
    "# Exercice 1 : Preprocessing de données\n",
    "\n",
    "On vous donne deux dataframe pandas, `df_tp` et `df_exam`, représentant les notes d'évaluations de TP et d'examen d'un cours a Polytechnique.\n",
    "\n",
    "### 1.1\n",
    "\n",
    "Créez une colonne `Moyenne` dans `df_tp` contenant la moyenne des notes des TPs pour chaque étudiant."
   ]
  },
  {
   "cell_type": "code",
   "execution_count": null,
   "metadata": {},
   "outputs": [],
   "source": [
    "# Les données à utiliser\n",
    "df_tp = pd.read_csv('./data-1.csv')\n",
    "df_exam = pd.read_csv('./data-2.csv')"
   ]
  },
  {
   "cell_type": "code",
   "execution_count": null,
   "metadata": {},
   "outputs": [],
   "source": [
    "# TODO: Calculer la moyenne\n",
    "df_tp['Moyenne'] = df_tp.drop('Matricule', axis=1).mean(axis=1)"
   ]
  },
  {
   "cell_type": "code",
   "execution_count": null,
   "metadata": {},
   "outputs": [],
   "source": [
    "# Utilisez cette case pour tester le résultat\n",
    "df_tp"
   ]
  },
  {
   "cell_type": "markdown",
   "metadata": {},
   "source": [
    "### 1.2\n",
    "\n",
    "Arrondissez les valeurs dans la colonne `Moyenne` à deux décimales."
   ]
  },
  {
   "cell_type": "code",
   "execution_count": null,
   "metadata": {},
   "outputs": [],
   "source": [
    "# TODO: Arrondir\n",
    "df_tp['Moyenne'] = df_tp['Moyenne'] .round(2)"
   ]
  },
  {
   "cell_type": "code",
   "execution_count": null,
   "metadata": {},
   "outputs": [],
   "source": [
    "# Utilisez cette case pour tester le résultat\n",
    "df_tp"
   ]
  },
  {
   "cell_type": "markdown",
   "metadata": {},
   "source": [
    "### 1.3\n",
    "\n",
    "Créez un troisième dataframe pandas, `df_summary`, contenant trois colonnes : le matricule, la note d'examen et la moyenne calculée précédemment."
   ]
  },
  {
   "cell_type": "code",
   "execution_count": null,
   "metadata": {},
   "outputs": [],
   "source": [
    "# TODO: Créer le df\n",
    "df_summary = pd.concat([df_tp[['Matricule', 'Moyenne']].set_index('Matricule'),df_exam.set_index('Matricule')], axis=1, join='inner')"
   ]
  },
  {
   "cell_type": "code",
   "execution_count": null,
   "metadata": {},
   "outputs": [],
   "source": [
    "# Utilisez cette case pour tester le résultat\n",
    "df_summary"
   ]
  },
  {
   "cell_type": "markdown",
   "metadata": {},
   "source": [
    "# Exercice 2 : Animations"
   ]
  },
  {
   "cell_type": "markdown",
   "metadata": {},
   "source": [
    "Plotly supporte l'ajout d'animations à ses graphiques. Nous allons ici faire quelques exercices simples pour introduire ce sujet.\n",
    "\n",
    "### 2.1\n",
    "\n",
    "Pour commencer, créez un tableau d'objets `go.Frame` contenant les frames représentant un nuage de points avec un seul point se déplaçant du point (1,2) vers le point (5,5)."
   ]
  },
  {
   "cell_type": "code",
   "execution_count": null,
   "metadata": {},
   "outputs": [],
   "source": [
    "# TODO: Définir le tableau\n",
    "frames = [go.Frame(data=[go.Scatter(x=[1], y=[2])]),\n",
    "        go.Frame(data=[go.Scatter(x=[5], y=[5])])]"
   ]
  },
  {
   "cell_type": "markdown",
   "metadata": {},
   "source": [
    "### 2.1\n",
    "\n",
    "Créez un objet `go.Layout` définissant des axes en x et en y qui vont de 0 à 6. Puis, incluez un menu avec un bouton étiquetté 'Go' qui lance une animation."
   ]
  },
  {
   "cell_type": "code",
   "execution_count": null,
   "metadata": {},
   "outputs": [],
   "source": [
    "# TODO : Définir l'objet demandé\n",
    "layout=go.Layout(\n",
    "    xaxis_range=[0, 6],\n",
    "    yaxis_range=[0, 6],\n",
    "    \n",
    "    updatemenus=[{\n",
    "        'type':'buttons',\n",
    "        'buttons':[{\n",
    "            'label': 'Go',\n",
    "            'method': 'animate',\n",
    "            'args': [None]\n",
    "        }]\n",
    "    }]\n",
    ")"
   ]
  },
  {
   "cell_type": "markdown",
   "metadata": {},
   "source": [
    "### 2.3\n",
    "\n",
    "Définissez une figure avec les données qu'on défini ci-bas. Incluez le tableau d'objets `go.Frame` et l'objet `go.Layout` créés dans les questions précédentes dans votre définition."
   ]
  },
  {
   "cell_type": "code",
   "execution_count": null,
   "metadata": {},
   "outputs": [],
   "source": [
    "# Les données à utiliser\n",
    "data = [go.Scatter(x=[1], y=[1])]"
   ]
  },
  {
   "cell_type": "code",
   "execution_count": null,
   "metadata": {},
   "outputs": [],
   "source": [
    "# TODO : Définir la figure\n",
    "fig = go.Figure(data=data, layout=layout, frames=frames)"
   ]
  },
  {
   "cell_type": "code",
   "execution_count": null,
   "metadata": {},
   "outputs": [],
   "source": [
    "# Utilisez cette case pour tester le résultat\n",
    "fig"
   ]
  },
  {
   "cell_type": "markdown",
   "metadata": {},
   "source": [
    "# Exercice 3 : Animations avec Plotly Express\n",
    "\n",
    "Certaines figures pouvant être générées avec Plotly Express supportent aussi les animations. \n",
    "\n",
    "Utilisez les données sur la performance d'un logiciel ci-bas pour généré un bar chart animé avec Plotly Express. On veut comparer la performance de deux différentes configurations à travers deux versions du logiciel. La configuration utilisée devrait être représentée en x tandis que la performance devrait être représentée en y. Puis, l'animation représente la version.\n",
    "\n",
    "Assurez-vous que l'axe des y montre toutes les valeurs possibles pour la performance (qui peut aller de 0 à 100%)."
   ]
  },
  {
   "cell_type": "code",
   "execution_count": null,
   "metadata": {},
   "outputs": [],
   "source": [
    "# Les données à utiliser\n",
    "data = {'config': ['A', 'B', 'A', 'B'], 'performance': [0.66, 0.37, 0.20, 0.86], 'version': [1, 1, 2, 2]}"
   ]
  },
  {
   "cell_type": "code",
   "execution_count": null,
   "metadata": {},
   "outputs": [],
   "source": [
    "# TODO: Définir la figure demandée\n",
    "fig = px.bar(data, x=\"config\", y=\"performance\",\n",
    "  animation_frame=\"version\", animation_group=\"config\", range_y=[0,1])"
   ]
  },
  {
   "cell_type": "code",
   "execution_count": null,
   "metadata": {},
   "outputs": [],
   "source": [
    "# Utilisez cette case pour tester le résultat\n",
    "fig.show()"
   ]
  },
  {
   "cell_type": "markdown",
   "metadata": {},
   "source": [
    "# Exercice 4 : Callback context de Dash\n",
    "\n",
    "Dans certains cas, les callbacks que nous voulons utiliser avec Dash peuvent devenir plus complexes. Par exemple, si on a deux boutons qui mettent à jour le même texte, il peut être utile de pouvoir distinguer lequel a été clické. Le `callback_context` de Dash peut être utile pour avoir plus d'informations sur le contexte ayant déclenché une fonction callback.\n",
    "\n",
    "### 4.1\n",
    "\n",
    "Définissez une fonction callback pour que le nombre affiché incrémente de 1 lorsqu'il y a un clique sur le bouton \"+\" et décrémente de 1 lorsqu'il y a un clique sur le bouton \"-\".\n"
   ]
  },
  {
   "cell_type": "code",
   "execution_count": null,
   "metadata": {},
   "outputs": [],
   "source": [
    "import dash\n",
    "import dash_html_components as html\n",
    "\n",
    "from dash.dependencies import Input, Output, State"
   ]
  },
  {
   "cell_type": "code",
   "execution_count": null,
   "metadata": {},
   "outputs": [],
   "source": [
    "external_stylesheets=['https://codepen.io/chriddyp/pen/bWLwgP.css']"
   ]
  },
  {
   "cell_type": "code",
   "execution_count": null,
   "metadata": {},
   "outputs": [],
   "source": [
    "app = JupyterDash(__name__, external_stylesheets=external_stylesheets)"
   ]
  },
  {
   "cell_type": "code",
   "execution_count": null,
   "metadata": {},
   "outputs": [],
   "source": [
    "# Le layout à utiliser\n",
    "app.layout = html.Div(children=[\n",
    "    html.Div(0, id='info'),\n",
    "    html.Div(children=[html.Button('+', id='plus'), html.Button('-', id='minus')])\n",
    "])"
   ]
  },
  {
   "cell_type": "code",
   "execution_count": null,
   "metadata": {},
   "outputs": [],
   "source": [
    "# TODO : Définir le callback pour accomplir la tâche demandée\n",
    "@app.callback(\n",
    "Output('info', 'children'),\n",
    "[Input('plus', 'n_clicks'), Input('minus', 'n_clicks')],\n",
    "[State('info', 'children')])\n",
    "def counter(plus, minus, info):\n",
    "    ctx=dash.callback_context\n",
    "    \n",
    "    if ctx.triggered[0]['prop_id'].split('.')[0] == 'plus':\n",
    "        return int(info) + 1\n",
    "    if ctx.triggered[0]['prop_id'].split('.')[0] == 'minus':\n",
    "        return int(info) - 1\n",
    "    else:\n",
    "        return info\n",
    "        "
   ]
  },
  {
   "cell_type": "code",
   "execution_count": null,
   "metadata": {},
   "outputs": [],
   "source": [
    "# Utilisez cette case pour tester le résultat\n",
    "app.run_server(port=8082)"
   ]
  }
 ],
 "metadata": {
  "kernelspec": {
   "display_name": "tp1",
   "language": "python",
   "name": "tp1"
  },
  "language_info": {
   "codemirror_mode": {
    "name": "ipython",
    "version": 3
   },
   "file_extension": ".py",
   "mimetype": "text/x-python",
   "name": "python",
   "nbconvert_exporter": "python",
   "pygments_lexer": "ipython3",
   "version": "3.8.3"
  }
 },
 "nbformat": 4,
 "nbformat_minor": 4
}
