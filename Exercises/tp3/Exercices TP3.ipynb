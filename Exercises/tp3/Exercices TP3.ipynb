{
 "cells": [
  {
   "cell_type": "markdown",
   "metadata": {},
   "source": [
    "Dans ce fichier, nous allons présenter quelques exercices en vue de préparer le TP3."
   ]
  },
  {
   "cell_type": "code",
   "execution_count": 1,
   "metadata": {},
   "outputs": [],
   "source": [
    "from jupyter_dash import JupyterDash\n",
    "import pandas as pd"
   ]
  },
  {
   "cell_type": "code",
   "execution_count": 2,
   "metadata": {},
   "outputs": [],
   "source": [
    "import plotly.graph_objects as go\n",
    "import plotly.io as pio"
   ]
  },
  {
   "cell_type": "markdown",
   "metadata": {},
   "source": [
    "# Exercice 1 : Modification du thème par défaut \n",
    "\n",
    "Par défaut, Plotly utilise le thème 'Plotly' par défaut. \n",
    "\n",
    "### 1.1\n",
    "Changez le thème utilisé par défaut pour 'ggplot2'. "
   ]
  },
  {
   "cell_type": "code",
   "execution_count": 3,
   "metadata": {},
   "outputs": [],
   "source": [
    "# TODO : Modifiez le template par défaut"
   ]
  },
  {
   "cell_type": "markdown",
   "metadata": {},
   "source": [
    "\n",
    "### 1.2\n",
    "Testez que cela a fonctionné en créant un bar chart avec les données ci-bas, où l'on défini des valeurs en x et y."
   ]
  },
  {
   "cell_type": "code",
   "execution_count": 1,
   "metadata": {},
   "outputs": [],
   "source": [
    "# Les données à utiliser\n",
    "data = {'x': ['Option A', 'Option B', 'Option C'], 'y': [6, 3, 4]}"
   ]
  },
  {
   "cell_type": "code",
   "execution_count": 5,
   "metadata": {},
   "outputs": [],
   "source": [
    "# TODO : Créez le bar chart\n",
    "fig = None"
   ]
  },
  {
   "cell_type": "code",
   "execution_count": 6,
   "metadata": {},
   "outputs": [],
   "source": [
    "# Utilisez cette case pour tester le résultat\n",
    "fig"
   ]
  },
  {
   "cell_type": "markdown",
   "metadata": {},
   "source": [
    "# Exercice 2 : Ajout de formes SVG à une figure Plotly\n",
    "\n",
    "Si l'on veut, il est possible de directement ajouter des formes SVG à une figure Plotly (voir la documentation ici pour plus d'information sur le format SVG : https://developer.mozilla.org/en-US/docs/Web/SVG). \n",
    "\n",
    "### 2.1\n",
    "\n",
    "Créez une figure Plotly vide où vous ajoutez un rectangle SVG de largeur 3 et de hauteur 2 dans les unités données. Son coin inférieur gauche doit être à la coordonnée (2,2)."
   ]
  },
  {
   "cell_type": "code",
   "execution_count": 7,
   "metadata": {},
   "outputs": [],
   "source": [
    "# TODO : Créez la figure demandée"
   ]
  },
  {
   "cell_type": "markdown",
   "metadata": {},
   "source": [
    "### 2.1\n",
    "\n",
    "On vous fourni le code ci-dessous pour tracer un nuage de points contenant quelques points. \n",
    "\n",
    "Tracez un ellipse rempli de couleur rouge englobant le point (15, 46).\n",
    "\n",
    "Comme coordonnées pour tracer l'ellipse, vous pouvez utiliser : x0=14, y0=41, x1=16, y1=51."
   ]
  },
  {
   "cell_type": "code",
   "execution_count": 8,
   "metadata": {},
   "outputs": [],
   "source": [
    "# Cette case contient la figure que vous devez modifier\n",
    "fig = go.Figure(go.Scatter(x=[31,15,7,6], y=[5,46,78,10], mode='markers'))"
   ]
  },
  {
   "cell_type": "code",
   "execution_count": 9,
   "metadata": {},
   "outputs": [],
   "source": [
    "# TODO : Tracez la forme demandée"
   ]
  },
  {
   "cell_type": "markdown",
   "metadata": {},
   "source": [
    "# Exercice 3 : Annotations"
   ]
  },
  {
   "cell_type": "markdown",
   "metadata": {},
   "source": [
    "### 3.1\n",
    "\n",
    "Créez une figure vide et ajouter une annotation avec pour texte : \"Polytechnique Montréal\". L'annotation doit être centrée au point (2, 2) et ne doit pas contenir de flèche."
   ]
  },
  {
   "cell_type": "code",
   "execution_count": 10,
   "metadata": {},
   "outputs": [],
   "source": [
    "# TODO : Créer la figure demandée"
   ]
  },
  {
   "cell_type": "markdown",
   "metadata": {},
   "source": [
    "### 3.2\n",
    "\n",
    "Pour cet exercice, on va reprendre le même nuage de points qu'en 2.1.\n",
    "\n",
    "Vous devez ajouter une annotation à la figure qui pointe au point (15, 46). Le texte de l'annotation devrait être : \"Objectif\"."
   ]
  },
  {
   "cell_type": "code",
   "execution_count": 11,
   "metadata": {},
   "outputs": [],
   "source": [
    "# Cette case contient la figure que vous devez modifier\n",
    "fig = go.Figure(go.Scatter(x=[31,15,7,6], y=[5,46,78,10], mode='markers'))"
   ]
  },
  {
   "cell_type": "code",
   "execution_count": 12,
   "metadata": {},
   "outputs": [],
   "source": [
    "# TODO : Faire la modification demandée"
   ]
  },
  {
   "cell_type": "markdown",
   "metadata": {},
   "source": [
    "# Exercice 4 : Plotly Express"
   ]
  },
  {
   "cell_type": "markdown",
   "metadata": {},
   "source": [
    "Cet exercice représente une introduction à Plotly Express, un module haut niveau permettant de rapidement créer des figures.\n",
    "\n",
    "### 4.1\n",
    "\n",
    "Utilisez Plotly Express pour créer un diagramme « pie chart » montrant la proportion de chaque réponse dans les données ci-bas."
   ]
  },
  {
   "cell_type": "code",
   "execution_count": 13,
   "metadata": {},
   "outputs": [],
   "source": [
    "import plotly.express as px"
   ]
  },
  {
   "cell_type": "code",
   "execution_count": 14,
   "metadata": {},
   "outputs": [],
   "source": [
    "# Les données à utiliser\n",
    "df = {'Réponse': ['Oui', 'Non', 'Indécis'], 'Compte': [66, 356, 41]}"
   ]
  },
  {
   "cell_type": "code",
   "execution_count": 15,
   "metadata": {},
   "outputs": [],
   "source": [
    "# TODO : Créer la figure demandée"
   ]
  },
  {
   "cell_type": "markdown",
   "metadata": {},
   "source": [
    "### 4.2\n",
    "\n",
    "Notez qu'il est tout de même possible d'accéder et de modifier le « graph object » de plus bas niveau après avoir créé une figure avec Plotly Express. \n",
    "\n",
    "Modifiez la figure ci-dessous générée avec Plotly Express. On veut modifier les axes pour que le texte sur l'axe x soit affiché en rouge et que l'axe y soit complètement invisible. Vous pouvez utiliser la fonction `update_layout()` pour faire la modification."
   ]
  },
  {
   "cell_type": "code",
   "execution_count": 16,
   "metadata": {},
   "outputs": [],
   "source": [
    "# La figure à modifier\n",
    "fig = px.scatter(x=[1,2,3], y=[5,2,4])"
   ]
  },
  {
   "cell_type": "code",
   "execution_count": 17,
   "metadata": {},
   "outputs": [],
   "source": [
    "# TODO : Faire la modification demandée"
   ]
  },
  {
   "cell_type": "markdown",
   "metadata": {},
   "source": [
    "# Exercice 5 : Manipulation de données avec pandas"
   ]
  },
  {
   "cell_type": "markdown",
   "metadata": {},
   "source": [
    "Pour cet exercice, nous allons nous familiariser davantage avec pandas. Pour s'exercer, on vous donne accès à un fichier 'data.csv' contenant des données fictives sur des équipes de sport.\n",
    "\n",
    "### 5.1\n",
    "\n",
    "Pour commencer, importez ce fichier dans un dataframe pandas et imprimez le pour voir le contenu."
   ]
  },
  {
   "cell_type": "code",
   "execution_count": 18,
   "metadata": {},
   "outputs": [],
   "source": [
    "# TODO : Importer le csv avec pandas\n",
    "df = None"
   ]
  },
  {
   "cell_type": "code",
   "execution_count": 19,
   "metadata": {},
   "outputs": [],
   "source": [
    "# TODO : Imprimer le contenu du csv"
   ]
  },
  {
   "cell_type": "markdown",
   "metadata": {},
   "source": [
    "### 5.2\n",
    "\n",
    "On voudrait changer le format des données de sorte que chaque colonne représente une année et chaque rangée représente une équipe. Le contenu devrait correspondre au rang de l'équipe donnée à l'année donnée."
   ]
  },
  {
   "cell_type": "code",
   "execution_count": 20,
   "metadata": {},
   "outputs": [],
   "source": [
    "# TODO : La manipulation demandée sur le df"
   ]
  },
  {
   "cell_type": "code",
   "execution_count": 21,
   "metadata": {},
   "outputs": [],
   "source": [
    "# Utilisez cette cellule pour vérifier le résultat\n",
    "df"
   ]
  }
 ],
 "metadata": {
  "kernelspec": {
   "display_name": "tp1",
   "language": "python",
   "name": "tp1"
  },
  "language_info": {
   "codemirror_mode": {
    "name": "ipython",
    "version": 3
   },
   "file_extension": ".py",
   "mimetype": "text/x-python",
   "name": "python",
   "nbconvert_exporter": "python",
   "pygments_lexer": "ipython3",
   "version": "3.8.3"
  }
 },
 "nbformat": 4,
 "nbformat_minor": 4
}
