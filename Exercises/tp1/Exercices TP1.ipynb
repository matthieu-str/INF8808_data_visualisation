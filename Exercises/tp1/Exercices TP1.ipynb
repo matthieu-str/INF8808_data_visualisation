{
 "cells": [
  {
   "cell_type": "markdown",
   "metadata": {},
   "source": [
    "Dans ce fichier, nous allons présenter quelques exercices en vue de préparer le TP1."
   ]
  },
  {
   "cell_type": "code",
   "execution_count": null,
   "metadata": {
    "pycharm": {
     "is_executing": true
    }
   },
   "outputs": [],
   "source": [
    "from jupyter_dash import JupyterDash\n",
    "import dash\n",
    "import dash_html_components as html\n",
    "import pandas as pd"
   ]
  },
  {
   "cell_type": "markdown",
   "metadata": {},
   "source": [
    "# Exercice 1 : Python + pandas\n",
    "\n",
    "Définissez une fonction en python acceptant 1 nombres entier (m) en paramètre. Puis, utilisez pandas pour générer un dataframe avec les charactéristiques suivantes :\n",
    "\n",
    "- 2 colonnes, une nommé 'x' et l'autre 'y'\n",
    "- Le nombre m en paramètre est le nombre de rangées\n",
    "- La première colonnes est remplie de nombres entiers croissants allant de 1 à m\n",
    "- Deuxième colonne est remplie de nombres entiers décroissants allant de m à 1\n"
   ]
  },
  {
   "cell_type": "code",
   "execution_count": null,
   "metadata": {},
   "outputs": [],
   "source": [
    "# TODO: Création de la fonction demandée"
   ]
  },
  {
   "cell_type": "markdown",
   "metadata": {},
   "source": [
    "Puis, appelez la fonction pour tester le résultat :"
   ]
  },
  {
   "cell_type": "code",
   "execution_count": null,
   "metadata": {},
   "outputs": [],
   "source": [
    "# TODO: Vérifier la fonction"
   ]
  },
  {
   "cell_type": "markdown",
   "metadata": {},
   "source": [
    "# Exercice 2 : Création d'éléments HTML avec Dash"
   ]
  },
  {
   "cell_type": "markdown",
   "metadata": {},
   "source": [
    "### 2.1\n",
    "En utilisant les composantes HTML offertes par Dash, à l'intérieur du \"div\" ci-bas, créez une balise HTML enfant de type \"div\" avec un arrière plan de couleur \"#FF0000\", une hauteur de 100px et une largeur de 100px."
   ]
  },
  {
   "cell_type": "code",
   "execution_count": null,
   "metadata": {},
   "outputs": [],
   "source": [
    "external_stylesheets = ['https://codepen.io/chriddyp/pen/bWLwgP.css']"
   ]
  },
  {
   "cell_type": "code",
   "execution_count": null,
   "metadata": {},
   "outputs": [],
   "source": [
    "app = JupyterDash(\"exercice_1\", external_stylesheets=external_stylesheets)"
   ]
  },
  {
   "cell_type": "code",
   "execution_count": null,
   "metadata": {},
   "outputs": [],
   "source": [
    "# TODO: Créer un div rouge avec Dash\n",
    "app.layout = html.Div()"
   ]
  },
  {
   "cell_type": "code",
   "execution_count": null,
   "metadata": {},
   "outputs": [],
   "source": [
    "# Rouler cette cellule pour tester le résultat. Ouvrez une fenêtre à l'adresse donnée.\n",
    "app.run_server(port=8010)"
   ]
  },
  {
   "cell_type": "markdown",
   "metadata": {},
   "source": [
    "### 2.2\n",
    "\n",
    "En utilisant les composantes HTML offertes par Dash, à l'intérieur du \"div\" rajouter une balise \"header\" avec pour texte : \"INF8808\". \n",
    "\n",
    "Sous le titre, créez une table HTML avec 2 colonnes et deux rangées. Remplissez la table avec la lettre \"A\" en haut à gauche, \"B\" en haut à droite, \"C\" en bas à droite et \"D\" en bas à gauche."
   ]
  },
  {
   "cell_type": "code",
   "execution_count": null,
   "metadata": {},
   "outputs": [],
   "source": [
    "app = JupyterDash(__name__, external_stylesheets=external_stylesheets)"
   ]
  },
  {
   "cell_type": "code",
   "execution_count": null,
   "metadata": {},
   "outputs": [],
   "source": [
    "# TODO: Créer la table demandée\n",
    "app.layout = html.Div()"
   ]
  },
  {
   "cell_type": "code",
   "execution_count": null,
   "metadata": {},
   "outputs": [],
   "source": [
    "# Rouler cette cellule pour tester le résultat. Ouvrez une fenêtre à l'adresse donnée.\n",
    "app.run_server(port=8011)"
   ]
  },
  {
   "cell_type": "markdown",
   "metadata": {},
   "source": [
    "# Exercice 3 : Introduction aux callbacks avec Dash\n",
    "\n",
    "En utilisant les composantes HTML offertes par Dash, à l'intérieur du \"div\" ci-bas, créez les éléments suivant :\n",
    "\n",
    "- Un bouton avec \"Click me\" pour texte et un id \"btn\"\n",
    "- Un div vide avec simplement un id \"info\""
   ]
  },
  {
   "cell_type": "code",
   "execution_count": null,
   "metadata": {},
   "outputs": [],
   "source": [
    "from dash.dependencies import Input, Output"
   ]
  },
  {
   "cell_type": "code",
   "execution_count": null,
   "metadata": {},
   "outputs": [],
   "source": [
    "app = JupyterDash(__name__, external_stylesheets=external_stylesheets)"
   ]
  },
  {
   "cell_type": "code",
   "execution_count": null,
   "metadata": {},
   "outputs": [],
   "source": [
    "# TODO: Définir les éléments HTML demandés\n",
    "app.layout = html.Div()"
   ]
  },
  {
   "cell_type": "markdown",
   "metadata": {},
   "source": [
    "La fonction callback ci-bas sera appelée une fois au début de l'application, puis à chaque fois que la valeur \"n_clicks\" du bouton avec id \"btn\" change, c'est-à-dire à chaque fois que celui-ci est clické. \n",
    "\n",
    "La valeur retournée par la fonction sera attribuée à l'élément \"Output\" identifié, c'est-à-dire à l'attribut \"children\" de l'élément avec l'id \"info\".\n",
    "\n",
    "\n",
    "On vous demande donc de faire en sorte que le div \"info\" affiche le texte \"Le bouton a été clické n fois\", où n est le nombre de fois que le bouton a été clické jusqu'à présent.\n",
    "\n",
    "**Bonus** : Au chargement de l'application, faites en sorte que la valeur affichée est 0."
   ]
  },
  {
   "cell_type": "code",
   "execution_count": null,
   "metadata": {},
   "outputs": [],
   "source": [
    "@app.callback(\n",
    "    Output('info', 'children'),\n",
    "    [Input('btn', 'n_clicks')],\n",
    ")\n",
    "def button_clicked(clicks):\n",
    "    # TODO: Remplir la fonction tel que demandé\n",
    "     return ''"
   ]
  },
  {
   "cell_type": "code",
   "execution_count": null,
   "metadata": {},
   "outputs": [],
   "source": [
    "# Rouler cette cellule pour tester le résultat. Ouvrez une fenêtre à l'adresse donnée.\n",
    "app.run_server(port=8012, debug=True)"
   ]
  },
  {
   "cell_type": "markdown",
   "metadata": {},
   "source": [
    "# Exercice 4 : Création de graphe avec Plotly"
   ]
  },
  {
   "cell_type": "markdown",
   "metadata": {},
   "source": [
    "### 4.1\n",
    "\n",
    "Nous allons utiliser Plotly pour créer un diagramme à bandes, en utilisant l'interface graph objects. \n",
    "\n",
    "Commencez par créer un graph object représentant des objets de type \"Bar\" où les données en x sont : 'Poire' 'Pomme' 'Orange' et les données en y sont : { 4, 6, 2 }.\n",
    "\n",
    "Faites en sorte que la couleur des bandes soit : '#20B2AA'."
   ]
  },
  {
   "cell_type": "code",
   "execution_count": null,
   "metadata": {},
   "outputs": [],
   "source": [
    "import plotly.graph_objects as go"
   ]
  },
  {
   "cell_type": "code",
   "execution_count": null,
   "metadata": {},
   "outputs": [],
   "source": [
    "# TODO: Générer les données de type \"Bar\"\n",
    "fig = go.Figure()"
   ]
  },
  {
   "cell_type": "code",
   "execution_count": null,
   "metadata": {},
   "outputs": [],
   "source": [
    "# Roulez cette commande pour tester\n",
    "fig.show()"
   ]
  },
  {
   "cell_type": "markdown",
   "metadata": {},
   "source": [
    "### 4.2\n",
    "\n",
    "Maintenant, à partir des mêmes données, on voudrait redessiner le même diagramme à bandes, mais avec quelques éléments supplémentaires. On veut que le titre soit \"Inventaire\" et que l'axe des x ait l'étiquette \"Fruit\" et l'axe en y ait l'étiquette \"Quantité\". "
   ]
  },
  {
   "cell_type": "code",
   "execution_count": null,
   "metadata": {},
   "outputs": [],
   "source": [
    "# TODO: Créer le graph object permettant d'ajouter les éléments désirés"
   ]
  },
  {
   "cell_type": "code",
   "execution_count": null,
   "metadata": {},
   "outputs": [],
   "source": [
    "# TODO: Modifier la figure existante pour incorporer le nouveau graph object"
   ]
  },
  {
   "cell_type": "code",
   "execution_count": null,
   "metadata": {
    "scrolled": true
   },
   "outputs": [],
   "source": [
    "# Roulez cette commande pour tester\n",
    "fig.show()"
   ]
  },
  {
   "cell_type": "markdown",
   "metadata": {},
   "source": [
    "# Exercice 5 : Dash + Plotly"
   ]
  },
  {
   "cell_type": "markdown",
   "metadata": {},
   "source": [
    "Dash est une librairie nous permettant de facilement afficher des graphiques réalisés avec Plotly. Nous allons donc voir comment ces deux outils peuvent être combinés.\n",
    "\n",
    "### 5.1\n",
    "\n",
    "Commencez par créer un autre diagramme à bandes avec Plotly. Cette fois-ci, utilisez comme données :\n",
    "\n",
    "- **x**: { Oui, Non }\n",
    "- **y**: { 7, 25 }\n",
    "\n",
    "Puis, initialisez la figure avec les éléments suivants : \n",
    "\n",
    "- **Titre** : Votes\n",
    "- **Étiquette pour l'axe x** : Choix\n",
    "- **Étiquette pour l'axe y** : Nombre de votes\n"
   ]
  },
  {
   "cell_type": "code",
   "execution_count": null,
   "metadata": {},
   "outputs": [],
   "source": [
    "# TODO: Créer la figure demandée\n",
    "\n",
    "fig=go.Figure()"
   ]
  },
  {
   "cell_type": "code",
   "execution_count": null,
   "metadata": {},
   "outputs": [],
   "source": [
    "# Roulez cette commande pour tester \n",
    "fig.show()"
   ]
  },
  {
   "cell_type": "markdown",
   "metadata": {},
   "source": [
    "### 5.2\n",
    "\n",
    "Maintenant que le graphique est terminé, on voudrait l'afficher dans une page web.\n",
    "\n",
    "Commencez par initialiser les marges du \"div\" à 100px.\n",
    "\n",
    "Puis, vous pouvez utiliser la composante \"Graph\" importée des composantes de Dash ci-bas pour afficher la figure. Ceette composante doit être l'enfant du div que vous avez créer. "
   ]
  },
  {
   "cell_type": "code",
   "execution_count": null,
   "metadata": {},
   "outputs": [],
   "source": [
    "from dash_core_components import Graph"
   ]
  },
  {
   "cell_type": "code",
   "execution_count": null,
   "metadata": {},
   "outputs": [],
   "source": [
    "app = JupyterDash(__name__, external_stylesheets=external_stylesheets)"
   ]
  },
  {
   "cell_type": "code",
   "execution_count": null,
   "metadata": {},
   "outputs": [],
   "source": [
    "# TODO: Définir les éléments HTML demandés\n",
    "app.layout = html.Div()"
   ]
  },
  {
   "cell_type": "code",
   "execution_count": null,
   "metadata": {},
   "outputs": [],
   "source": [
    "# Rouler cette cellule pour tester le résultat. Ouvrez une fenêtre à l'adresse donnée.\n",
    "app.run_server(port=8012)"
   ]
  }
 ],
 "metadata": {
  "kernelspec": {
   "display_name": "tp1",
   "language": "python",
   "name": "tp1"
  },
  "language_info": {
   "codemirror_mode": {
    "name": "ipython",
    "version": 3
   },
   "file_extension": ".py",
   "mimetype": "text/x-python",
   "name": "python",
   "nbconvert_exporter": "python",
   "pygments_lexer": "ipython3",
   "version": "3.8.3"
  }
 },
 "nbformat": 4,
 "nbformat_minor": 4
}
