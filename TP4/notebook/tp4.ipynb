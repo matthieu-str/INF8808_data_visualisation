{
 "cells": [
  {
   "cell_type": "markdown",
   "metadata": {},
   "source": [
    "# TP4 | INF8808\n",
    "\n",
    "In this notebook, we will start by creating a simple app to help explore our data. This step is important in conceiving data visualizations. It helps to determine which type of data visualization is appropriate for our data set, as well as which features we'd like to include. \n",
    "\n",
    "In the rest of this notebook, you will have to complete some cells to prepare for the implementation of an animated bubble chart in the next steps. \n",
    "\n",
    "To begin, take a look at the following cells, where we complete the necessary imports and load the data.\n",
    "\n"
   ]
  },
  {
   "cell_type": "code",
   "execution_count": 7,
   "metadata": {},
   "outputs": [],
   "source": [
    "import pandas as pd\n",
    "import json"
   ]
  },
  {
   "cell_type": "code",
   "execution_count": 8,
   "metadata": {},
   "outputs": [],
   "source": [
    "with open('../src/assets/data/countriesData.json') as data_file:\n",
    "    data = json.load(data_file)  \n",
    "\n",
    "df_2000 = pd.json_normalize(data, '2000')\n",
    "df_2015 = pd.json_normalize(data, '2015')"
   ]
  },
  {
   "cell_type": "code",
   "execution_count": 23,
   "outputs": [],
   "source": [],
   "metadata": {
    "collapsed": false
   }
  },
  {
   "cell_type": "code",
   "execution_count": 23,
   "outputs": [],
   "source": [],
   "metadata": {
    "collapsed": false
   }
  },
  {
   "cell_type": "code",
   "execution_count": 23,
   "outputs": [],
   "source": [],
   "metadata": {
    "collapsed": false
   }
  },
  {
   "cell_type": "code",
   "execution_count": 9,
   "metadata": {},
   "outputs": [
    {
     "name": "stderr",
     "output_type": "stream",
     "text": [
      "/tmp/ipykernel_7509/3427951988.py:3: UserWarning: \n",
      "The dash_html_components package is deprecated. Please replace\n",
      "`import dash_html_components as html` with `from dash import html`\n",
      "  import dash_html_components as html\n",
      "/tmp/ipykernel_7509/3427951988.py:4: UserWarning: \n",
      "The dash_core_components package is deprecated. Please replace\n",
      "`import dash_core_components as dcc` with `from dash import dcc`\n",
      "  import dash_core_components as dcc\n"
     ]
    }
   ],
   "source": [
    "from jupyter_dash import JupyterDash\n",
    "import dash\n",
    "import dash_html_components as html\n",
    "import dash_core_components as dcc\n",
    "\n",
    "import plotly.express as px"
   ]
  },
  {
   "cell_type": "code",
   "execution_count": 10,
   "metadata": {},
   "outputs": [],
   "source": [
    "external_stylesheets=['https://codepen.io/chriddyp/pen/bWLwgP.css']"
   ]
  },
  {
   "cell_type": "code",
   "execution_count": 11,
   "metadata": {},
   "outputs": [],
   "source": [
    "app = JupyterDash(__name__, external_stylesheets=external_stylesheets)"
   ]
  },
  {
   "cell_type": "code",
   "execution_count": 12,
   "metadata": {},
   "outputs": [
    {
     "data": {
      "text/plain": "            Country Name           GDP       CO2  Population      Continent\n0                Algeria   1764.973830  2.830380    31042235         Africa\n1                Andorra  21854.246803  8.019284       65390         Europe\n2                 Angola    556.836318  0.581961    16395473         Africa\n3                Albania   1126.683318  0.978175     3089027         Europe\n4    Antigua and Barbuda  10920.842688  4.534545       76016  North America\n..                   ...           ...       ...         ...            ...\n169              Vanuatu   1470.572265  0.455966      184972        Oceania\n170              Vietnam    390.093326  0.671309    79910412           Asia\n171                Yemen    554.448633  0.841075    17409072           Asia\n172               Zambia    345.689554  0.174972    10415944         Africa\n173             Zimbabwe    563.057741  1.171874    11881477         Africa\n\n[174 rows x 5 columns]",
      "text/html": "<div>\n<style scoped>\n    .dataframe tbody tr th:only-of-type {\n        vertical-align: middle;\n    }\n\n    .dataframe tbody tr th {\n        vertical-align: top;\n    }\n\n    .dataframe thead th {\n        text-align: right;\n    }\n</style>\n<table border=\"1\" class=\"dataframe\">\n  <thead>\n    <tr style=\"text-align: right;\">\n      <th></th>\n      <th>Country Name</th>\n      <th>GDP</th>\n      <th>CO2</th>\n      <th>Population</th>\n      <th>Continent</th>\n    </tr>\n  </thead>\n  <tbody>\n    <tr>\n      <th>0</th>\n      <td>Algeria</td>\n      <td>1764.973830</td>\n      <td>2.830380</td>\n      <td>31042235</td>\n      <td>Africa</td>\n    </tr>\n    <tr>\n      <th>1</th>\n      <td>Andorra</td>\n      <td>21854.246803</td>\n      <td>8.019284</td>\n      <td>65390</td>\n      <td>Europe</td>\n    </tr>\n    <tr>\n      <th>2</th>\n      <td>Angola</td>\n      <td>556.836318</td>\n      <td>0.581961</td>\n      <td>16395473</td>\n      <td>Africa</td>\n    </tr>\n    <tr>\n      <th>3</th>\n      <td>Albania</td>\n      <td>1126.683318</td>\n      <td>0.978175</td>\n      <td>3089027</td>\n      <td>Europe</td>\n    </tr>\n    <tr>\n      <th>4</th>\n      <td>Antigua and Barbuda</td>\n      <td>10920.842688</td>\n      <td>4.534545</td>\n      <td>76016</td>\n      <td>North America</td>\n    </tr>\n    <tr>\n      <th>...</th>\n      <td>...</td>\n      <td>...</td>\n      <td>...</td>\n      <td>...</td>\n      <td>...</td>\n    </tr>\n    <tr>\n      <th>169</th>\n      <td>Vanuatu</td>\n      <td>1470.572265</td>\n      <td>0.455966</td>\n      <td>184972</td>\n      <td>Oceania</td>\n    </tr>\n    <tr>\n      <th>170</th>\n      <td>Vietnam</td>\n      <td>390.093326</td>\n      <td>0.671309</td>\n      <td>79910412</td>\n      <td>Asia</td>\n    </tr>\n    <tr>\n      <th>171</th>\n      <td>Yemen</td>\n      <td>554.448633</td>\n      <td>0.841075</td>\n      <td>17409072</td>\n      <td>Asia</td>\n    </tr>\n    <tr>\n      <th>172</th>\n      <td>Zambia</td>\n      <td>345.689554</td>\n      <td>0.174972</td>\n      <td>10415944</td>\n      <td>Africa</td>\n    </tr>\n    <tr>\n      <th>173</th>\n      <td>Zimbabwe</td>\n      <td>563.057741</td>\n      <td>1.171874</td>\n      <td>11881477</td>\n      <td>Africa</td>\n    </tr>\n  </tbody>\n</table>\n<p>174 rows × 5 columns</p>\n</div>"
     },
     "execution_count": 12,
     "metadata": {},
     "output_type": "execute_result"
    }
   ],
   "source": [
    "df_2000"
   ]
  },
  {
   "cell_type": "code",
   "execution_count": 13,
   "metadata": {},
   "outputs": [
    {
     "data": {
      "text/plain": "            Country Name           GDP       CO2  Population      Continent\n0                Albania   3952.801215  1.602648     2880703         Europe\n1                Algeria   4177.892515  3.854557    39728025         Africa\n2                Andorra  35762.523074  5.969786       78011         Europe\n3                 Angola   4166.979684  1.240245    27884381         Africa\n4    Antigua and Barbuda  14286.093160  5.839546       93566  North America\n..                   ...           ...       ...         ...            ...\n169              Vanuatu   2801.939848  0.486896      271130        Oceania\n170              Vietnam   2085.101484  2.032108    92677076           Asia\n171                Yemen   1395.439633  0.497091    26497889           Asia\n172               Zambia   1337.796110  0.285428    15879361         Africa\n173             Zimbabwe   1445.071062  0.891624    13814629         Africa\n\n[174 rows x 5 columns]",
      "text/html": "<div>\n<style scoped>\n    .dataframe tbody tr th:only-of-type {\n        vertical-align: middle;\n    }\n\n    .dataframe tbody tr th {\n        vertical-align: top;\n    }\n\n    .dataframe thead th {\n        text-align: right;\n    }\n</style>\n<table border=\"1\" class=\"dataframe\">\n  <thead>\n    <tr style=\"text-align: right;\">\n      <th></th>\n      <th>Country Name</th>\n      <th>GDP</th>\n      <th>CO2</th>\n      <th>Population</th>\n      <th>Continent</th>\n    </tr>\n  </thead>\n  <tbody>\n    <tr>\n      <th>0</th>\n      <td>Albania</td>\n      <td>3952.801215</td>\n      <td>1.602648</td>\n      <td>2880703</td>\n      <td>Europe</td>\n    </tr>\n    <tr>\n      <th>1</th>\n      <td>Algeria</td>\n      <td>4177.892515</td>\n      <td>3.854557</td>\n      <td>39728025</td>\n      <td>Africa</td>\n    </tr>\n    <tr>\n      <th>2</th>\n      <td>Andorra</td>\n      <td>35762.523074</td>\n      <td>5.969786</td>\n      <td>78011</td>\n      <td>Europe</td>\n    </tr>\n    <tr>\n      <th>3</th>\n      <td>Angola</td>\n      <td>4166.979684</td>\n      <td>1.240245</td>\n      <td>27884381</td>\n      <td>Africa</td>\n    </tr>\n    <tr>\n      <th>4</th>\n      <td>Antigua and Barbuda</td>\n      <td>14286.093160</td>\n      <td>5.839546</td>\n      <td>93566</td>\n      <td>North America</td>\n    </tr>\n    <tr>\n      <th>...</th>\n      <td>...</td>\n      <td>...</td>\n      <td>...</td>\n      <td>...</td>\n      <td>...</td>\n    </tr>\n    <tr>\n      <th>169</th>\n      <td>Vanuatu</td>\n      <td>2801.939848</td>\n      <td>0.486896</td>\n      <td>271130</td>\n      <td>Oceania</td>\n    </tr>\n    <tr>\n      <th>170</th>\n      <td>Vietnam</td>\n      <td>2085.101484</td>\n      <td>2.032108</td>\n      <td>92677076</td>\n      <td>Asia</td>\n    </tr>\n    <tr>\n      <th>171</th>\n      <td>Yemen</td>\n      <td>1395.439633</td>\n      <td>0.497091</td>\n      <td>26497889</td>\n      <td>Asia</td>\n    </tr>\n    <tr>\n      <th>172</th>\n      <td>Zambia</td>\n      <td>1337.796110</td>\n      <td>0.285428</td>\n      <td>15879361</td>\n      <td>Africa</td>\n    </tr>\n    <tr>\n      <th>173</th>\n      <td>Zimbabwe</td>\n      <td>1445.071062</td>\n      <td>0.891624</td>\n      <td>13814629</td>\n      <td>Africa</td>\n    </tr>\n  </tbody>\n</table>\n<p>174 rows × 5 columns</p>\n</div>"
     },
     "execution_count": 13,
     "metadata": {},
     "output_type": "execute_result"
    }
   ],
   "source": [
    "df_2015"
   ]
  },
  {
   "cell_type": "markdown",
   "metadata": {},
   "source": [
    "# Question 1 \n",
    "\n",
    "You notice that the tables `df_2000` and `df_2015` have columns `GDP` and `CO2`, which you wish to include in your visualization. \n",
    "\n",
    "These columns contain numbers with many decimal places, but you are only planning on displaying numbers up to two decimal places in your visualization.\n",
    "\n",
    "Round the numbers in these dataframes so they only contain numbers up to two decimal places."
   ]
  },
  {
   "cell_type": "code",
   "execution_count": 14,
   "metadata": {},
   "outputs": [],
   "source": [
    "# TODO : Round the values\n",
    "df_2000.GDP = df_2000.GDP.round(decimals=2)\n",
    "df_2000.CO2 = df_2000.CO2.round(decimals=2)\n",
    "df_2015.GDP = df_2015.GDP.round(decimals=2)\n",
    "df_2015.CO2 = df_2015.CO2.round(decimals=2)"
   ]
  },
  {
   "cell_type": "code",
   "execution_count": 15,
   "metadata": {},
   "outputs": [
    {
     "data": {
      "text/plain": "            Country Name       GDP   CO2  Population      Continent\n0                Algeria   1764.97  2.83    31042235         Africa\n1                Andorra  21854.25  8.02       65390         Europe\n2                 Angola    556.84  0.58    16395473         Africa\n3                Albania   1126.68  0.98     3089027         Europe\n4    Antigua and Barbuda  10920.84  4.53       76016  North America\n..                   ...       ...   ...         ...            ...\n169              Vanuatu   1470.57  0.46      184972        Oceania\n170              Vietnam    390.09  0.67    79910412           Asia\n171                Yemen    554.45  0.84    17409072           Asia\n172               Zambia    345.69  0.17    10415944         Africa\n173             Zimbabwe    563.06  1.17    11881477         Africa\n\n[174 rows x 5 columns]",
      "text/html": "<div>\n<style scoped>\n    .dataframe tbody tr th:only-of-type {\n        vertical-align: middle;\n    }\n\n    .dataframe tbody tr th {\n        vertical-align: top;\n    }\n\n    .dataframe thead th {\n        text-align: right;\n    }\n</style>\n<table border=\"1\" class=\"dataframe\">\n  <thead>\n    <tr style=\"text-align: right;\">\n      <th></th>\n      <th>Country Name</th>\n      <th>GDP</th>\n      <th>CO2</th>\n      <th>Population</th>\n      <th>Continent</th>\n    </tr>\n  </thead>\n  <tbody>\n    <tr>\n      <th>0</th>\n      <td>Algeria</td>\n      <td>1764.97</td>\n      <td>2.83</td>\n      <td>31042235</td>\n      <td>Africa</td>\n    </tr>\n    <tr>\n      <th>1</th>\n      <td>Andorra</td>\n      <td>21854.25</td>\n      <td>8.02</td>\n      <td>65390</td>\n      <td>Europe</td>\n    </tr>\n    <tr>\n      <th>2</th>\n      <td>Angola</td>\n      <td>556.84</td>\n      <td>0.58</td>\n      <td>16395473</td>\n      <td>Africa</td>\n    </tr>\n    <tr>\n      <th>3</th>\n      <td>Albania</td>\n      <td>1126.68</td>\n      <td>0.98</td>\n      <td>3089027</td>\n      <td>Europe</td>\n    </tr>\n    <tr>\n      <th>4</th>\n      <td>Antigua and Barbuda</td>\n      <td>10920.84</td>\n      <td>4.53</td>\n      <td>76016</td>\n      <td>North America</td>\n    </tr>\n    <tr>\n      <th>...</th>\n      <td>...</td>\n      <td>...</td>\n      <td>...</td>\n      <td>...</td>\n      <td>...</td>\n    </tr>\n    <tr>\n      <th>169</th>\n      <td>Vanuatu</td>\n      <td>1470.57</td>\n      <td>0.46</td>\n      <td>184972</td>\n      <td>Oceania</td>\n    </tr>\n    <tr>\n      <th>170</th>\n      <td>Vietnam</td>\n      <td>390.09</td>\n      <td>0.67</td>\n      <td>79910412</td>\n      <td>Asia</td>\n    </tr>\n    <tr>\n      <th>171</th>\n      <td>Yemen</td>\n      <td>554.45</td>\n      <td>0.84</td>\n      <td>17409072</td>\n      <td>Asia</td>\n    </tr>\n    <tr>\n      <th>172</th>\n      <td>Zambia</td>\n      <td>345.69</td>\n      <td>0.17</td>\n      <td>10415944</td>\n      <td>Africa</td>\n    </tr>\n    <tr>\n      <th>173</th>\n      <td>Zimbabwe</td>\n      <td>563.06</td>\n      <td>1.17</td>\n      <td>11881477</td>\n      <td>Africa</td>\n    </tr>\n  </tbody>\n</table>\n<p>174 rows × 5 columns</p>\n</div>"
     },
     "execution_count": 15,
     "metadata": {},
     "output_type": "execute_result"
    }
   ],
   "source": [
    "# Use this cell to check your answer\n",
    "df_2000"
   ]
  },
  {
   "cell_type": "code",
   "execution_count": 16,
   "metadata": {},
   "outputs": [
    {
     "data": {
      "text/plain": "            Country Name       GDP   CO2  Population      Continent\n0                Albania   3952.80  1.60     2880703         Europe\n1                Algeria   4177.89  3.85    39728025         Africa\n2                Andorra  35762.52  5.97       78011         Europe\n3                 Angola   4166.98  1.24    27884381         Africa\n4    Antigua and Barbuda  14286.09  5.84       93566  North America\n..                   ...       ...   ...         ...            ...\n169              Vanuatu   2801.94  0.49      271130        Oceania\n170              Vietnam   2085.10  2.03    92677076           Asia\n171                Yemen   1395.44  0.50    26497889           Asia\n172               Zambia   1337.80  0.29    15879361         Africa\n173             Zimbabwe   1445.07  0.89    13814629         Africa\n\n[174 rows x 5 columns]",
      "text/html": "<div>\n<style scoped>\n    .dataframe tbody tr th:only-of-type {\n        vertical-align: middle;\n    }\n\n    .dataframe tbody tr th {\n        vertical-align: top;\n    }\n\n    .dataframe thead th {\n        text-align: right;\n    }\n</style>\n<table border=\"1\" class=\"dataframe\">\n  <thead>\n    <tr style=\"text-align: right;\">\n      <th></th>\n      <th>Country Name</th>\n      <th>GDP</th>\n      <th>CO2</th>\n      <th>Population</th>\n      <th>Continent</th>\n    </tr>\n  </thead>\n  <tbody>\n    <tr>\n      <th>0</th>\n      <td>Albania</td>\n      <td>3952.80</td>\n      <td>1.60</td>\n      <td>2880703</td>\n      <td>Europe</td>\n    </tr>\n    <tr>\n      <th>1</th>\n      <td>Algeria</td>\n      <td>4177.89</td>\n      <td>3.85</td>\n      <td>39728025</td>\n      <td>Africa</td>\n    </tr>\n    <tr>\n      <th>2</th>\n      <td>Andorra</td>\n      <td>35762.52</td>\n      <td>5.97</td>\n      <td>78011</td>\n      <td>Europe</td>\n    </tr>\n    <tr>\n      <th>3</th>\n      <td>Angola</td>\n      <td>4166.98</td>\n      <td>1.24</td>\n      <td>27884381</td>\n      <td>Africa</td>\n    </tr>\n    <tr>\n      <th>4</th>\n      <td>Antigua and Barbuda</td>\n      <td>14286.09</td>\n      <td>5.84</td>\n      <td>93566</td>\n      <td>North America</td>\n    </tr>\n    <tr>\n      <th>...</th>\n      <td>...</td>\n      <td>...</td>\n      <td>...</td>\n      <td>...</td>\n      <td>...</td>\n    </tr>\n    <tr>\n      <th>169</th>\n      <td>Vanuatu</td>\n      <td>2801.94</td>\n      <td>0.49</td>\n      <td>271130</td>\n      <td>Oceania</td>\n    </tr>\n    <tr>\n      <th>170</th>\n      <td>Vietnam</td>\n      <td>2085.10</td>\n      <td>2.03</td>\n      <td>92677076</td>\n      <td>Asia</td>\n    </tr>\n    <tr>\n      <th>171</th>\n      <td>Yemen</td>\n      <td>1395.44</td>\n      <td>0.50</td>\n      <td>26497889</td>\n      <td>Asia</td>\n    </tr>\n    <tr>\n      <th>172</th>\n      <td>Zambia</td>\n      <td>1337.80</td>\n      <td>0.29</td>\n      <td>15879361</td>\n      <td>Africa</td>\n    </tr>\n    <tr>\n      <th>173</th>\n      <td>Zimbabwe</td>\n      <td>1445.07</td>\n      <td>0.89</td>\n      <td>13814629</td>\n      <td>Africa</td>\n    </tr>\n  </tbody>\n</table>\n<p>174 rows × 5 columns</p>\n</div>"
     },
     "execution_count": 16,
     "metadata": {},
     "output_type": "execute_result"
    }
   ],
   "source": [
    "# Use this cell to check your answer\n",
    "df_2015"
   ]
  },
  {
   "cell_type": "markdown",
   "metadata": {},
   "source": [
    "# Question 2\n",
    "\n",
    "Given the data you have, you decide to create a simple scatter plot for each dataframe.\n",
    "\n",
    "In the next cells, fill the functions to accomplish this task. \n",
    "\n",
    "### 2.1\n",
    "\n",
    "First, fill the `get_scatter` function, which returns a scatter plot figure for the given data frame. Its x axis is GDP and its y axis is CO2. Its `hover_name` property is represented by the country name. The title of the scatter plot is passed as argument. The axes should be represented as linearly scaled.\n",
    "\n",
    "### 2.2\n",
    "\n",
    "Second, fill the `get_range` function, which will help to more easily compare the two scatter plots. We want both scatter plots to have the same range for their x and y axes, and to be able to see all the points in each scatter plot. Thus, for the given column, the function should return an array containing the minimum and maximum across the two dataframes. \n",
    "\n"
   ]
  },
  {
   "cell_type": "code",
   "execution_count": 17,
   "metadata": {},
   "outputs": [],
   "source": [
    "def get_scatter(df, title):\n",
    "    # TODO : Construct the scatter plot\n",
    "    fig = px.scatter(df, x=\"GDP\", y=\"CO2\", hover_name=\"Country Name\", title = title)\n",
    "    return fig"
   ]
  },
  {
   "cell_type": "code",
   "execution_count": 18,
   "metadata": {},
   "outputs": [],
   "source": [
    "def get_range(col, df1, df2):\n",
    "    # TODO : Calculate the range\n",
    "    minimum = min(df1[col].min(), df2[col].min())\n",
    "    maximum = max(df1[col].max(), df2[col].max())\n",
    "    return(minimum, maximum)"
   ]
  },
  {
   "cell_type": "markdown",
   "metadata": {},
   "source": [
    "Run these next three cells to check your answer. You should see your two scatter plots side by side."
   ]
  },
  {
   "cell_type": "code",
   "execution_count": 19,
   "metadata": {},
   "outputs": [],
   "source": [
    "fig_2000 = get_scatter(df_2000, '2000')\n",
    "fig_2015 = get_scatter(df_2015, '2015')\n",
    "\n",
    "fig_2000.update_layout(xaxis=dict(range=get_range('GDP', df_2000, df_2015)))\n",
    "fig_2000.update_layout(yaxis=dict(range=get_range('CO2', df_2000, df_2015)))\n",
    "fig_2000.update_layout(dragmode=False)\n",
    "\n",
    "\n",
    "fig_2015.update_layout(xaxis=dict(range=get_range('GDP', df_2000, df_2015)))\n",
    "fig_2015.update_layout(yaxis=dict(range=get_range('CO2', df_2000, df_2015)))\n",
    "fig_2015.update_layout(dragmode=False);"
   ]
  },
  {
   "cell_type": "code",
   "execution_count": 20,
   "metadata": {},
   "outputs": [],
   "source": [
    "config=dict(\n",
    "                scrollZoom=False,\n",
    "                showTips=False,\n",
    "                showAxisDragHandles=False,\n",
    "                doubleClick=False,\n",
    "                displayModeBar=False\n",
    "            )\n",
    "\n",
    "app.layout = html.Div(children=[\n",
    "        html.Div(className='row', children=[dcc.Graph(id='fig-2000', figure=fig_2000, className='six columns', config=config), dcc.Graph(id='fig-2015', figure=fig_2015, className='six columns', config=config)]),\n",
    "        html.Div(style = {'width': '100%', 'display': 'flex', 'alignItems': 'center', 'justifyContent': 'center', 'flexDirection' : 'column'}, children=[\n",
    "            html.H4('Hover over markers for more information', id='country'),\n",
    "            html.Table(children=[\n",
    "                html.Thead(html.Tr(children=[html.Th(), html.Th('GDP per capita ($ USD)'), html.Th('CO2 emissions per capita (metric tonnes)')])),\n",
    "                html.Tbody(children=[\n",
    "                    html.Tr(children=[html.Th('2000'), html.Td(id='2000-gdp'), html.Td(id='2000-co2')]),\n",
    "                    html.Tr(children=[html.Th('2015'), html.Td(id='2015-gdp'), html.Td(id='2015-co2')])\n",
    "                ])\n",
    "            ])\n",
    "        ])\n",
    "    ])"
   ]
  },
  {
   "cell_type": "code",
   "execution_count": 21,
   "metadata": {},
   "outputs": [
    {
     "name": "stdout",
     "output_type": "stream",
     "text": [
      "Dash app running on http://127.0.0.1:8080/\n"
     ]
    }
   ],
   "source": [
    "# Use this cell to check your answer\n",
    "app.run_server(port=8080)"
   ]
  },
  {
   "cell_type": "markdown",
   "metadata": {},
   "source": [
    "# Question 3\n",
    "\n",
    "Now that you've seen both charts side-by-side, you've realized it might be interesting to model them with an animation. However, you'd like to be able to compare the data for countries more easily across the scatter plots.\n",
    "\n",
    "To do so, you will implement a callback function which is triggered whenever a point is hovered in one of the two scatter plots. The signature for this function is already started below. \n",
    "\n",
    "Complete the function so that whenever a point is hovered, the appropriate information is displayed in the table below the scatter plots. \n",
    "\n",
    "The title of the table should be the name of the country of the hovered point. Further, the table should contain the GDP and CO2 information for the years 2000 and 2015."
   ]
  },
  {
   "cell_type": "code",
   "execution_count": 22,
   "metadata": {},
   "outputs": [],
   "source": [
    "from dash.dependencies import Input, Output, State"
   ]
  },
  {
   "cell_type": "code",
   "execution_count": 23,
   "metadata": {},
   "outputs": [],
   "source": [
    "@app.callback(\n",
    "    [Output('country', 'children'), Output('2000-gdp', 'children'), Output('2000-co2', 'children'), Output('2015-gdp', 'children'), Output('2015-co2', 'children')],\n",
    "    [Input('fig-2000', 'hoverData'), Input('fig-2015', 'hoverData')],\n",
    "    [State('country', 'children'), State('2000-gdp', 'children'), State('2000-co2', 'children'), State('2015-gdp', 'children'), State('2015-co2', 'children')])\n",
    "def display_selected_data(hoverData2000, hoverData2015, prevCountry, prevgdp0, prevco20, prevgdp5, prevco25):\n",
    "    # TODO : Handle the display when a point is hovered\n",
    "    if hoverData2000 is not None:\n",
    "        country_name = hoverData2000['points'][0]['customdata'][0]\n",
    "    elif hoverData2015 is not None:\n",
    "        country_name = hoverData2015['points'][0]['customdata'][0]\n",
    "    else:\n",
    "        country_name = prevCountry\n",
    "\n",
    "    if hoverData2000 is not None:\n",
    "        gdp_2000 = hoverData2000['points'][0]['x']\n",
    "        co2_2000 = hoverData2000['points'][0]['y']\n",
    "    else:\n",
    "        gdp_2000 = prevgdp0\n",
    "        co2_2000 = prevco20\n",
    "\n",
    "    if hoverData2015 is not None:\n",
    "        gdp_2015 = hoverData2015['points'][0]['x']\n",
    "        co2_2015 = hoverData2015['points'][0]['y']\n",
    "    else:\n",
    "        gdp_2015 = prevgdp5\n",
    "        co2_2015 = prevco25\n",
    "\n",
    "    # Return the updated values to display in the table\n",
    "    return country_name, gdp_2000, co2_2000, gdp_2015, co2_2015"
   ]
  },
  {
   "cell_type": "code",
   "execution_count": 28,
   "outputs": [
    {
     "data": {
      "text/plain": "dash.dependencies.State"
     },
     "execution_count": 28,
     "metadata": {},
     "output_type": "execute_result"
    }
   ],
   "source": [
    "State"
   ],
   "metadata": {
    "collapsed": false
   }
  },
  {
   "cell_type": "code",
   "execution_count": null,
   "outputs": [],
   "source": [],
   "metadata": {
    "collapsed": false
   }
  },
  {
   "cell_type": "markdown",
   "metadata": {},
   "source": [
    "Run these next three cells to check your answer. You should see the table get filled when you hover a point in either scatter plot."
   ]
  },
  {
   "cell_type": "markdown",
   "source": [],
   "metadata": {
    "collapsed": false
   }
  },
  {
   "cell_type": "code",
   "execution_count": 34,
   "metadata": {},
   "outputs": [
    {
     "ename": "AssertionError",
     "evalue": "The setup method 'errorhandler' can no longer be called on the application. It has already handled its first request, any changes will not be applied consistently.\nMake sure all imports, decorators, functions, etc. needed to set up the application are done before running it.",
     "output_type": "error",
     "traceback": [
      "\u001B[0;31m---------------------------------------------------------------------------\u001B[0m",
      "\u001B[0;31mAssertionError\u001B[0m                            Traceback (most recent call last)",
      "Cell \u001B[0;32mIn[34], line 3\u001B[0m\n\u001B[1;32m      1\u001B[0m \u001B[38;5;66;03m# Use this cell to check your answer\u001B[39;00m\n\u001B[1;32m      2\u001B[0m \u001B[38;5;28;01mif\u001B[39;00m \u001B[38;5;18m__name__\u001B[39m \u001B[38;5;241m==\u001B[39m \u001B[38;5;124m'\u001B[39m\u001B[38;5;124m__main__\u001B[39m\u001B[38;5;124m'\u001B[39m:\n\u001B[0;32m----> 3\u001B[0m     \u001B[43mapp\u001B[49m\u001B[38;5;241;43m.\u001B[39;49m\u001B[43mrun_server\u001B[49m\u001B[43m(\u001B[49m\u001B[43mport\u001B[49m\u001B[38;5;241;43m=\u001B[39;49m\u001B[38;5;241;43m8052\u001B[39;49m\u001B[43m)\u001B[49m\n",
      "File \u001B[0;32m~/anaconda3/envs/inf8808/lib/python3.10/site-packages/jupyter_dash/jupyter_app.py:285\u001B[0m, in \u001B[0;36mJupyterDash.run_server\u001B[0;34m(self, mode, width, height, inline_exceptions, **kwargs)\u001B[0m\n\u001B[1;32m    282\u001B[0m flask\u001B[38;5;241m.\u001B[39mcli\u001B[38;5;241m.\u001B[39mshow_server_banner \u001B[38;5;241m=\u001B[39m \u001B[38;5;28;01mlambda\u001B[39;00m \u001B[38;5;241m*\u001B[39margs, \u001B[38;5;241m*\u001B[39m\u001B[38;5;241m*\u001B[39mkwargs: \u001B[38;5;28;01mNone\u001B[39;00m\n\u001B[1;32m    284\u001B[0m \u001B[38;5;66;03m# Set up custom callback exception handling\u001B[39;00m\n\u001B[0;32m--> 285\u001B[0m \u001B[38;5;28;43mself\u001B[39;49m\u001B[38;5;241;43m.\u001B[39;49m\u001B[43m_config_callback_exception_handling\u001B[49m\u001B[43m(\u001B[49m\n\u001B[1;32m    286\u001B[0m \u001B[43m    \u001B[49m\u001B[43mdev_tools_prune_errors\u001B[49m\u001B[38;5;241;43m=\u001B[39;49m\u001B[43mkwargs\u001B[49m\u001B[38;5;241;43m.\u001B[39;49m\u001B[43mget\u001B[49m\u001B[43m(\u001B[49m\u001B[38;5;124;43m'\u001B[39;49m\u001B[38;5;124;43mdev_tools_prune_errors\u001B[39;49m\u001B[38;5;124;43m'\u001B[39;49m\u001B[43m,\u001B[49m\u001B[43m \u001B[49m\u001B[38;5;28;43;01mTrue\u001B[39;49;00m\u001B[43m)\u001B[49m\u001B[43m,\u001B[49m\n\u001B[1;32m    287\u001B[0m \u001B[43m    \u001B[49m\u001B[43minline_exceptions\u001B[49m\u001B[38;5;241;43m=\u001B[39;49m\u001B[43minline_exceptions\u001B[49m\u001B[43m,\u001B[49m\n\u001B[1;32m    288\u001B[0m \u001B[43m\u001B[49m\u001B[43m)\u001B[49m\n\u001B[1;32m    290\u001B[0m \u001B[38;5;66;03m# prevent partial import of orjson when it's installed and mode=jupyterlab\u001B[39;00m\n\u001B[1;32m    291\u001B[0m \u001B[38;5;66;03m# TODO: why do we need this? Why only in this mode? Importing here in\u001B[39;00m\n\u001B[1;32m    292\u001B[0m \u001B[38;5;66;03m# all modes anyway, in case there's a way it can pop up in another mode\u001B[39;00m\n\u001B[1;32m    293\u001B[0m \u001B[38;5;28;01mtry\u001B[39;00m:\n",
      "File \u001B[0;32m~/anaconda3/envs/inf8808/lib/python3.10/site-packages/jupyter_dash/jupyter_app.py:375\u001B[0m, in \u001B[0;36mJupyterDash._config_callback_exception_handling\u001B[0;34m(self, dev_tools_prune_errors, inline_exceptions)\u001B[0m\n\u001B[1;32m    371\u001B[0m \u001B[38;5;28;01mdef\u001B[39;00m \u001B[38;5;21m_config_callback_exception_handling\u001B[39m(\n\u001B[1;32m    372\u001B[0m         \u001B[38;5;28mself\u001B[39m, dev_tools_prune_errors, inline_exceptions\n\u001B[1;32m    373\u001B[0m ):\n\u001B[0;32m--> 375\u001B[0m     \u001B[38;5;129m@self\u001B[39m\u001B[38;5;241;43m.\u001B[39;49m\u001B[43mserver\u001B[49m\u001B[38;5;241;43m.\u001B[39;49m\u001B[43merrorhandler\u001B[49m\u001B[43m(\u001B[49m\u001B[38;5;167;43;01mException\u001B[39;49;00m\u001B[43m)\u001B[49m\n\u001B[1;32m    376\u001B[0m     \u001B[38;5;28;01mdef\u001B[39;00m \u001B[38;5;21m_wrap_errors\u001B[39m(error):\n\u001B[1;32m    377\u001B[0m \u001B[38;5;250m        \u001B[39m\u001B[38;5;124;03m\"\"\"Install traceback handling for callbacks\"\"\"\u001B[39;00m\n\u001B[1;32m    378\u001B[0m         \u001B[38;5;28mself\u001B[39m\u001B[38;5;241m.\u001B[39m_traceback \u001B[38;5;241m=\u001B[39m sys\u001B[38;5;241m.\u001B[39mexc_info()[\u001B[38;5;241m2\u001B[39m]\n",
      "File \u001B[0;32m~/anaconda3/envs/inf8808/lib/python3.10/site-packages/flask/scaffold.py:49\u001B[0m, in \u001B[0;36msetupmethod.<locals>.wrapper_func\u001B[0;34m(self, *args, **kwargs)\u001B[0m\n\u001B[1;32m     48\u001B[0m \u001B[38;5;28;01mdef\u001B[39;00m \u001B[38;5;21mwrapper_func\u001B[39m(\u001B[38;5;28mself\u001B[39m, \u001B[38;5;241m*\u001B[39margs: t\u001B[38;5;241m.\u001B[39mAny, \u001B[38;5;241m*\u001B[39m\u001B[38;5;241m*\u001B[39mkwargs: t\u001B[38;5;241m.\u001B[39mAny) \u001B[38;5;241m-\u001B[39m\u001B[38;5;241m>\u001B[39m t\u001B[38;5;241m.\u001B[39mAny:\n\u001B[0;32m---> 49\u001B[0m     \u001B[38;5;28;43mself\u001B[39;49m\u001B[38;5;241;43m.\u001B[39;49m\u001B[43m_check_setup_finished\u001B[49m\u001B[43m(\u001B[49m\u001B[43mf_name\u001B[49m\u001B[43m)\u001B[49m\n\u001B[1;32m     50\u001B[0m     \u001B[38;5;28;01mreturn\u001B[39;00m f(\u001B[38;5;28mself\u001B[39m, \u001B[38;5;241m*\u001B[39margs, \u001B[38;5;241m*\u001B[39m\u001B[38;5;241m*\u001B[39mkwargs)\n",
      "File \u001B[0;32m~/anaconda3/envs/inf8808/lib/python3.10/site-packages/flask/app.py:722\u001B[0m, in \u001B[0;36mFlask._check_setup_finished\u001B[0;34m(self, f_name)\u001B[0m\n\u001B[1;32m    720\u001B[0m \u001B[38;5;28;01mdef\u001B[39;00m \u001B[38;5;21m_check_setup_finished\u001B[39m(\u001B[38;5;28mself\u001B[39m, f_name: \u001B[38;5;28mstr\u001B[39m) \u001B[38;5;241m-\u001B[39m\u001B[38;5;241m>\u001B[39m \u001B[38;5;28;01mNone\u001B[39;00m:\n\u001B[1;32m    721\u001B[0m     \u001B[38;5;28;01mif\u001B[39;00m \u001B[38;5;28mself\u001B[39m\u001B[38;5;241m.\u001B[39m_got_first_request:\n\u001B[0;32m--> 722\u001B[0m         \u001B[38;5;28;01mraise\u001B[39;00m \u001B[38;5;167;01mAssertionError\u001B[39;00m(\n\u001B[1;32m    723\u001B[0m             \u001B[38;5;124mf\u001B[39m\u001B[38;5;124m\"\u001B[39m\u001B[38;5;124mThe setup method \u001B[39m\u001B[38;5;124m'\u001B[39m\u001B[38;5;132;01m{\u001B[39;00mf_name\u001B[38;5;132;01m}\u001B[39;00m\u001B[38;5;124m'\u001B[39m\u001B[38;5;124m can no longer be called\u001B[39m\u001B[38;5;124m\"\u001B[39m\n\u001B[1;32m    724\u001B[0m             \u001B[38;5;124m\"\u001B[39m\u001B[38;5;124m on the application. It has already handled its first\u001B[39m\u001B[38;5;124m\"\u001B[39m\n\u001B[1;32m    725\u001B[0m             \u001B[38;5;124m\"\u001B[39m\u001B[38;5;124m request, any changes will not be applied\u001B[39m\u001B[38;5;124m\"\u001B[39m\n\u001B[1;32m    726\u001B[0m             \u001B[38;5;124m\"\u001B[39m\u001B[38;5;124m consistently.\u001B[39m\u001B[38;5;130;01m\\n\u001B[39;00m\u001B[38;5;124m\"\u001B[39m\n\u001B[1;32m    727\u001B[0m             \u001B[38;5;124m\"\u001B[39m\u001B[38;5;124mMake sure all imports, decorators, functions, etc.\u001B[39m\u001B[38;5;124m\"\u001B[39m\n\u001B[1;32m    728\u001B[0m             \u001B[38;5;124m\"\u001B[39m\u001B[38;5;124m needed to set up the application are done before\u001B[39m\u001B[38;5;124m\"\u001B[39m\n\u001B[1;32m    729\u001B[0m             \u001B[38;5;124m\"\u001B[39m\u001B[38;5;124m running it.\u001B[39m\u001B[38;5;124m\"\u001B[39m\n\u001B[1;32m    730\u001B[0m         )\n",
      "\u001B[0;31mAssertionError\u001B[0m: The setup method 'errorhandler' can no longer be called on the application. It has already handled its first request, any changes will not be applied consistently.\nMake sure all imports, decorators, functions, etc. needed to set up the application are done before running it."
     ]
    }
   ],
   "source": [
    "# Use this cell to check your answer\n",
    "app.run_server(port=8052)"
   ]
  },
  {
   "cell_type": "markdown",
   "metadata": {},
   "source": [
    "# Next steps\n",
    "\n",
    "After this initial exploration step, you've decided you would like to implement this data visualization as a bubble chart with an animation to transition between the two years. You also would like to change the axes display to be log-scaled. You will reuse some of this code and complete the rest of the code provided with this TP to make these changes."
   ]
  }
 ],
 "metadata": {
  "kernelspec": {
   "display_name": "Python 3 (ipykernel)",
   "language": "python",
   "name": "python3"
  },
  "language_info": {
   "codemirror_mode": {
    "name": "ipython",
    "version": 3
   },
   "file_extension": ".py",
   "mimetype": "text/x-python",
   "name": "python",
   "nbconvert_exporter": "python",
   "pygments_lexer": "ipython3",
   "version": "3.9.13"
  }
 },
 "nbformat": 4,
 "nbformat_minor": 4
}
